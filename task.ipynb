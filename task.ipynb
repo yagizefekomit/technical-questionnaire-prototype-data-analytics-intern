{
 "cells": [
  {
   "cell_type": "markdown",
   "metadata": {},
   "source": [
    "Importing the libraries"
   ]
  },
  {
   "cell_type": "code",
   "execution_count": 121,
   "metadata": {},
   "outputs": [],
   "source": [
    "import pandas as pd\n",
    "import numpy as np"
   ]
  },
  {
   "cell_type": "markdown",
   "metadata": {},
   "source": [
    "Loading the dataset"
   ]
  },
  {
   "cell_type": "code",
   "execution_count": 122,
   "metadata": {},
   "outputs": [],
   "source": [
    "df = pd.read_csv(\"country_vaccination_stats.csv\")"
   ]
  },
  {
   "cell_type": "markdown",
   "metadata": {},
   "source": [
    "## 4th Question\n",
    "Code Implementation Task: Implement code to fill the missing data (impute) in daily_vaccinations column per country with the minimum daily vaccination number of relevant countries.  \n",
    "Note: If a country does not have any valid vaccination number yet, fill it with “0” (zero). \n",
    "Please  provide the link to your code as answer to this question."
   ]
  },
  {
   "cell_type": "markdown",
   "metadata": {},
   "source": [
    "delete the rows which has null for daliy_vaccinations column"
   ]
  },
  {
   "cell_type": "code",
   "execution_count": 124,
   "metadata": {},
   "outputs": [
    {
     "name": "stdout",
     "output_type": "stream",
     "text": [
      "['Argentina', 'Austria', 'Bahrain', 'Belgium', 'Brazil', 'Bulgaria', 'Canada', 'Chile', 'China', 'Costa Rica', 'Croatia', 'Cyprus', 'Czechia', 'Denmark', 'Ecuador', 'England', 'Estonia', 'Finland', 'France', 'Germany', 'Gibraltar', 'Greece', 'Hungary', 'Iceland', 'India', 'Indonesia', 'Ireland', 'Isle of Man', 'Israel', 'Italy', 'Kuwait', 'Latvia', 'Lithuania', 'Luxembourg', 'Malta', 'Mexico', 'Netherlands', 'Northern Ireland', 'Norway', 'Oman', 'Panama', 'Poland', 'Portugal', 'Romania', 'Russia', 'Saudi Arabia', 'Scotland', 'Serbia', 'Seychelles', 'Singapore', 'Slovakia', 'Slovenia', 'Spain', 'Sweden', 'Switzerland', 'Turkey', 'United Arab Emirates', 'United Kingdom', 'United States', 'Wales']\n"
     ]
    }
   ],
   "source": [
    "#Finding missing values\n",
    "is_null_values = df['daily_vaccinations'].isnull()\n",
    "countries_has_missing_values = []\n",
    "\n",
    "for i in range(len(df)):\n",
    "    if(is_null_values[i] == True):\n",
    "        the_row = df.loc[i]\n",
    "        countries_has_missing_values.append(the_row['country'])\n",
    "\n"
   ]
  },
  {
   "cell_type": "markdown",
   "metadata": {},
   "source": [
    "Have dropped the na's in a different dataset instead of filling with 0's. To find the minimum values of each country."
   ]
  },
  {
   "cell_type": "code",
   "execution_count": 125,
   "metadata": {},
   "outputs": [
    {
     "name": "stdout",
     "output_type": "stream",
     "text": [
      "<class 'str'>\n"
     ]
    }
   ],
   "source": [
    "df1 = df.dropna(subset=['daily_vaccinations'])\n"
   ]
  },
  {
   "cell_type": "code",
   "execution_count": 126,
   "metadata": {},
   "outputs": [],
   "source": [
    "\n",
    "# find the min_value for every country from dropna dataset\n",
    "country_values = []\n",
    "\n",
    "for country in countries_has_missing_values:\n",
    "    min_value = max(df1['daily_vaccinations'])\n",
    "    \n",
    "    for i in range(len(df1)):\n",
    "        x = df1.iloc[i,0]\n",
    "        if(x == country):\n",
    "\n",
    "            if(df1.iloc[i,2] < min_value):\n",
    "                min_value = df1.iloc[i,2]\n",
    "    \n",
    "    country_values.append([country, min_value])\n",
    "\n",
    "df_country_val = pd.DataFrame(country_values, columns=['country', 'min_value'])\n",
    "#df_country_val.to_csv('countries_min_vals.csv', index=False)\n"
   ]
  },
  {
   "cell_type": "markdown",
   "metadata": {},
   "source": [
    "### Find the nan values on daily_vaccinations column, then fill with min_value."
   ]
  },
  {
   "cell_type": "code",
   "execution_count": 128,
   "metadata": {},
   "outputs": [],
   "source": [
    "for i in range(len(df)):\n",
    "    if(np.isnan(df.iloc[i,2])):\n",
    "        \n",
    "        for j in range(len(df_country_val)):\n",
    "            if(df.iloc[i,0] == df_country_val.iloc[j, 0]):\n",
    "                df.iloc[i,2] = df_country_val.iloc[j,1]\n",
    "\n",
    "df.to_csv('country_vac_stats_filled.csv', index=False)"
   ]
  },
  {
   "cell_type": "markdown",
   "metadata": {},
   "source": [
    "# Question 6"
   ]
  },
  {
   "cell_type": "markdown",
   "metadata": {},
   "source": [
    "Code Implementation Task: Implement code to list the top-3 countries with highest median daily vaccination numbers by considering missing values imputed version of dataset.\n",
    "Please  provide the link to your code as answer to this question."
   ]
  },
  {
   "cell_type": "code",
   "execution_count": 136,
   "metadata": {},
   "outputs": [],
   "source": [
    "import statistics"
   ]
  },
  {
   "cell_type": "code",
   "execution_count": 137,
   "metadata": {},
   "outputs": [],
   "source": [
    "df2 = pd.read_csv('country_vac_stats_filled.csv')"
   ]
  },
  {
   "cell_type": "code",
   "execution_count": 155,
   "metadata": {},
   "outputs": [],
   "source": [
    "\n",
    "\n",
    "countries = []\n",
    "len_df2 = len(df2)\n",
    "# taking every country names\n",
    "for i in range(len_df2):\n",
    "    if not(df2.iloc[i,0] in  countries):\n",
    "        countries.append(df.iloc[i, 0])\n"
   ]
  },
  {
   "cell_type": "code",
   "execution_count": 175,
   "metadata": {},
   "outputs": [
    {
     "name": "stdout",
     "output_type": "stream",
     "text": [
      "top 3 countries with highest median daily vaccinations number are: \n",
      "1. Kuwait, and the median: 1126251.0\n",
      "2. United States, and the median: 378253.0\n",
      "3. China, and the median: 276786.0\n"
     ]
    }
   ],
   "source": [
    "# separating the countries to calculate median\n",
    "start = 0\n",
    "i = 0\n",
    "medians = []\n",
    "\n",
    "\n",
    "for country in countries:\n",
    "    isEqual = True\n",
    "    while(isEqual):\n",
    "        if(i == len_df2):\n",
    "            median = statistics.median(df2.iloc[start:(i-1), 2])\n",
    "\n",
    "            medians.append([country, median])\n",
    "            isEqual = False\n",
    "            break\n",
    "\n",
    "        elif((df2.iloc[i,0] != country)):\n",
    "            \n",
    "            median = statistics.median(df2.iloc[start:i, 2])\n",
    "\n",
    "            medians.append([country, median])\n",
    "            start = i\n",
    "            isEqual = False\n",
    "            break\n",
    "\n",
    "        else:\n",
    "            i += 1\n",
    "\n",
    "df_medians = pd.DataFrame(medians, columns=['country', 'median'])\n",
    "df_medians_sorted = df_medians.sort_values(by='median', ascending=False)\n",
    "\n",
    "print(\"top 3 countries with highest median daily vaccinations number are: \")\n",
    "for i in range(3):\n",
    "    print(f'{i + 1}. {df_medians_sorted.iloc[i,0]}, and the median: {df_medians_sorted.iloc[i,1]}')\n",
    "\n",
    "\n"
   ]
  },
  {
   "cell_type": "markdown",
   "metadata": {},
   "source": [
    "# Question 7\n",
    "\n",
    "What is the number of total vaccinations done on 1/6/2021 (MM/DD/YYYY) by considering missing values imputed version of dataset? Please  just provide the number as answer."
   ]
  },
  {
   "cell_type": "code",
   "execution_count": 176,
   "metadata": {},
   "outputs": [],
   "source": [
    "import datetime"
   ]
  },
  {
   "cell_type": "code",
   "execution_count": null,
   "metadata": {},
   "outputs": [],
   "source": [
    "df = pd.read_csv('country_vac_stats_filled.csv')"
   ]
  },
  {
   "cell_type": "code",
   "execution_count": 194,
   "metadata": {},
   "outputs": [
    {
     "name": "stdout",
     "output_type": "stream",
     "text": [
      "1485255.0\n"
     ]
    }
   ],
   "source": [
    "filtered_data = df[df['date'] == '1/6/2021']\n",
    "\n",
    "total = 0\n",
    "for i in range(len(filtered_data)):\n",
    "    total = total + filtered_data.iloc[i,2]\n",
    "\n",
    "print(total)"
   ]
  }
 ],
 "metadata": {
  "kernelspec": {
   "display_name": "Python 3",
   "language": "python",
   "name": "python3"
  },
  "language_info": {
   "codemirror_mode": {
    "name": "ipython",
    "version": 3
   },
   "file_extension": ".py",
   "mimetype": "text/x-python",
   "name": "python",
   "nbconvert_exporter": "python",
   "pygments_lexer": "ipython3",
   "version": "3.10.7"
  }
 },
 "nbformat": 4,
 "nbformat_minor": 2
}
